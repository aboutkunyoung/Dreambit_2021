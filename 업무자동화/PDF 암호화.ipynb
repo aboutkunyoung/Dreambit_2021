{
 "cells": [
  {
   "cell_type": "code",
   "execution_count": 1,
   "id": "1c0977a4",
   "metadata": {},
   "outputs": [],
   "source": [
    "import PyPDF2\n",
    "\n",
    "origin_file='드림비트 사업소득 원천징수영수증.pdf'\n",
    "new_file='드림비트 사업소득 원천징수영수증(암호화).pdf'\n",
    "password='981217-1381016'\n",
    "\n",
    "pdfFile=open(origin_file, 'rb')\n",
    "pdfReader=PyPDF2.PdfFileReader(pdfFile)\n",
    "\n",
    "pdfWriter=PyPDF2.PdfFileWriter()\n",
    "\n",
    "pdfWriter.addPage(pdfReader.getPage(0))\n",
    "\n",
    "pdfWriter.encrypt(password)\n",
    "\n",
    "pdfFile_new=open(new_file, 'wb')\n",
    "pdfWriter.write(pdfFile_new)\n",
    "\n",
    "pdfFile_new.close()\n",
    "pdfFile.close()"
   ]
  },
  {
   "cell_type": "code",
   "execution_count": null,
   "id": "9aa957d2",
   "metadata": {},
   "outputs": [],
   "source": []
  }
 ],
 "metadata": {
  "kernelspec": {
   "display_name": "Python 3",
   "language": "python",
   "name": "python3"
  },
  "language_info": {
   "codemirror_mode": {
    "name": "ipython",
    "version": 3
   },
   "file_extension": ".py",
   "mimetype": "text/x-python",
   "name": "python",
   "nbconvert_exporter": "python",
   "pygments_lexer": "ipython3",
   "version": "3.8.8"
  }
 },
 "nbformat": 4,
 "nbformat_minor": 5
}
