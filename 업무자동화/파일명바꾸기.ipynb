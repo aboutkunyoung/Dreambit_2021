{
 "cells": [
  {
   "cell_type": "code",
   "execution_count": 68,
   "id": "9d892e9f",
   "metadata": {},
   "outputs": [],
   "source": [
    "import pandas as pd\n",
    "import os\n",
    "import shutil"
   ]
  },
  {
   "cell_type": "code",
   "execution_count": 69,
   "id": "8cc31cd0",
   "metadata": {},
   "outputs": [],
   "source": [
    "df = pd.read_excel('C:\\\\Users\\\\pc\\\\Desktop\\\\Playground\\\\Rename\\\\파일명 바꾸기.xlsx')\n",
    "\n",
    "copath= 'C:\\\\Users\\\\pc\\\\Desktop\\\\Playground\\\\Rename\\\\10544_result'#저장될 위치\n",
    "#error_list=[]"
   ]
  },
  {
   "cell_type": "code",
   "execution_count": 72,
   "id": "572f0d91",
   "metadata": {},
   "outputs": [],
   "source": [
    "for i in range((df.shape)[0]):#전체 데이터 셋 만큼 돌기\n",
    "    src=os.path.join(df.iloc[i, 0], df.iloc[i, 1])#('폴더위치', '파일명') 에 접근\n",
    "    dst=str(df.iloc[i, 2])#바꾸고자 하는 이름\n",
    "    \n",
    "    fpath=(df.iloc[i, 0]).split('\\\\')[-2]\n",
    "    if not os.path.exists(copath+'\\\\'+fpath):\n",
    "        os.mkdir(copath+'\\\\'+fpath)\n",
    "        \n",
    "    shutil.copy2(src, copath+'\\\\'+fpath)    \n",
    "        \n",
    "    dst=str(df.iloc[i, 2])#바꾸고자 하는 이름\n",
    "    dst=os.path.join(copath+'\\\\'+fpath, dst)\n",
    "    try:\n",
    "        os.rename(copath+'\\\\'+fpath+'\\\\'+df.iloc[i, 1], dst)    \n",
    "    except:\n",
    "        print(\"Error!\")\n",
    "        #errpr_list.append('copath')"
   ]
  },
  {
   "cell_type": "code",
   "execution_count": null,
   "id": "1f1749e4",
   "metadata": {},
   "outputs": [],
   "source": []
  }
 ],
 "metadata": {
  "kernelspec": {
   "display_name": "Python 3",
   "language": "python",
   "name": "python3"
  },
  "language_info": {
   "codemirror_mode": {
    "name": "ipython",
    "version": 3
   },
   "file_extension": ".py",
   "mimetype": "text/x-python",
   "name": "python",
   "nbconvert_exporter": "python",
   "pygments_lexer": "ipython3",
   "version": "3.8.8"
  }
 },
 "nbformat": 4,
 "nbformat_minor": 5
}
