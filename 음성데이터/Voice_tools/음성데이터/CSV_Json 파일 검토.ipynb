{
 "cells": [
  {
   "cell_type": "code",
   "execution_count": 1,
   "id": "54b65fbf",
   "metadata": {},
   "outputs": [],
   "source": [
    "import os\n",
    "import json\n",
    "from collections import OrderedDict\n",
    "import pathlib\n",
    "import openpyxl\n",
    "import csv\n",
    "import pandas as pd"
   ]
  },
  {
   "cell_type": "code",
   "execution_count": 4,
   "id": "1ef9f00a",
   "metadata": {},
   "outputs": [],
   "source": [
    "file_list=os.listdir(\"C:\\\\Users\\\\pc\\\\Desktop\\\\CSV 파일 생성\\\\CSV\")"
   ]
  },
  {
   "cell_type": "code",
   "execution_count": 5,
   "id": "74c0ff45",
   "metadata": {},
   "outputs": [
    {
     "data": {
      "text/plain": [
       "12310"
      ]
     },
     "execution_count": 5,
     "metadata": {},
     "output_type": "execute_result"
    }
   ],
   "source": [
    "len(file_list)"
   ]
  },
  {
   "cell_type": "code",
   "execution_count": 19,
   "id": "2569d076",
   "metadata": {},
   "outputs": [
    {
     "name": "stdout",
     "output_type": "stream",
     "text": [
      "112328.42000000023\n",
      "411216\n"
     ]
    }
   ],
   "source": [
    "sum_of_recordtime=0\n",
    "sum_of_learningPeriod=0\n",
    "\n",
    "for i in file_list:\n",
    "    data = pd.read_csv(\"C:\\\\Users\\\\pc\\\\Desktop\\\\CSV 파일 생성\\\\CSV\\\\\"+i)\n",
    "    sum_of_recordtime+=data.iloc[0][6]\n",
    "    sum_of_learningPeriod+=data.iloc[0][23]\n",
    "\n",
    "print(sum_of_recordtime)\n",
    "print(sum_of_learningPeriod)"
   ]
  },
  {
   "cell_type": "markdown",
   "id": "6809193b",
   "metadata": {},
   "source": [
    "### 납품용 CSV, JSON 검토"
   ]
  },
  {
   "cell_type": "code",
   "execution_count": 53,
   "id": "eb9a922b",
   "metadata": {},
   "outputs": [
    {
     "name": "stdout",
     "output_type": "stream",
     "text": [
      "112328.42000000023\n",
      "411216\n"
     ]
    }
   ],
   "source": [
    "file_list2=os.listdir(\"C:\\\\Users\\pc\\Desktop\\\\씨에쓰리 납품\\\\(최종)AWS S3 업로드용\\\\메타데이터\\\\csv\")\n",
    "\n",
    "sum_of_recordtime=0\n",
    "sum_of_learningPeriod=0\n",
    "\n",
    "for i in file_list2:\n",
    "    if i.count('csv'):\n",
    "        data = pd.read_csv(\"C:\\\\Users\\pc\\Desktop\\\\씨에쓰리 납품\\\\(최종)AWS S3 업로드용\\\\메타데이터\\\\csv\\\\\"+i)\n",
    "        sum_of_recordtime+=data.iloc[0][6]\n",
    "        sum_of_learningPeriod+=data.iloc[0][23]\n",
    "\n",
    "print(sum_of_recordtime)\n",
    "print(sum_of_learningPeriod)"
   ]
  },
  {
   "cell_type": "code",
   "execution_count": 54,
   "id": "84546005",
   "metadata": {},
   "outputs": [
    {
     "data": {
      "text/plain": [
       "12310"
      ]
     },
     "execution_count": 54,
     "metadata": {},
     "output_type": "execute_result"
    }
   ],
   "source": [
    "len(file_list2)"
   ]
  },
  {
   "cell_type": "code",
   "execution_count": 38,
   "id": "6bd6fa5e",
   "metadata": {},
   "outputs": [],
   "source": [
    "import json\n",
    "from pprint import pprint "
   ]
  },
  {
   "cell_type": "code",
   "execution_count": 52,
   "id": "1f7f1fe5",
   "metadata": {},
   "outputs": [
    {
     "name": "stdout",
     "output_type": "stream",
     "text": [
      "112328.42000000023\n",
      "411216.0\n"
     ]
    }
   ],
   "source": [
    "file_list2=os.listdir(\"C:\\\\Users\\pc\\Desktop\\\\씨에쓰리 납품\\\\(최종)AWS S3 업로드용\\\\메타데이터\\\\json\")\n",
    "sum_of_recordtime=0\n",
    "sum_of_learningPeriod=0\n",
    "\n",
    "for i in file_list2:\n",
    "    if i.count('.json'):\n",
    "        with open(\"C:\\\\Users\\pc\\Desktop\\\\씨에쓰리 납품\\\\(최종)AWS S3 업로드용\\\\메타데이터\\\\json\\\\\"+i, encoding='UTF8') as data_file:\n",
    "            local = json.load(data_file)\n",
    "            sum_of_recordtime+=float((local.get(\"file_info\")).get(\"recordTime\"))\n",
    "            sum_of_learningPeriod+=float((local.get(\"skill_info\")).get(\"LearningPeriod\"))\n",
    "\n",
    "print(sum_of_recordtime)\n",
    "print(sum_of_learningPeriod)"
   ]
  },
  {
   "cell_type": "code",
   "execution_count": null,
   "id": "ebca6574",
   "metadata": {},
   "outputs": [],
   "source": []
  }
 ],
 "metadata": {
  "kernelspec": {
   "display_name": "Python 3",
   "language": "python",
   "name": "python3"
  },
  "language_info": {
   "codemirror_mode": {
    "name": "ipython",
    "version": 3
   },
   "file_extension": ".py",
   "mimetype": "text/x-python",
   "name": "python",
   "nbconvert_exporter": "python",
   "pygments_lexer": "ipython3",
   "version": "3.8.8"
  }
 },
 "nbformat": 4,
 "nbformat_minor": 5
}
