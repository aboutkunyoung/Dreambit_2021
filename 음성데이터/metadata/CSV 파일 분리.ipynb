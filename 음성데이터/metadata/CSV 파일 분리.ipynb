{
 "cells": [
  {
   "cell_type": "code",
   "execution_count": 1,
   "id": "ac2c924c",
   "metadata": {},
   "outputs": [],
   "source": [
    "import os\n",
    "import json\n",
    "from collections import OrderedDict\n",
    "import pathlib\n",
    "import openpyxl\n",
    "import csv\n",
    "import pandas as pd"
   ]
  },
  {
   "cell_type": "code",
   "execution_count": 2,
   "id": "e9e32fe8",
   "metadata": {},
   "outputs": [],
   "source": [
    "data = pd.read_csv('CSV.csv')"
   ]
  },
  {
   "cell_type": "code",
   "execution_count": 3,
   "id": "fa2ff0e6",
   "metadata": {},
   "outputs": [],
   "source": [
    "#tmp=os.getcwd()\n",
    "#os.listdir(tmp)\n",
    "os.chdir('CSV')"
   ]
  },
  {
   "cell_type": "code",
   "execution_count": 5,
   "id": "a65c24a6",
   "metadata": {},
   "outputs": [],
   "source": [
    "for i in range(12310):\n",
    "    df=pd.DataFrame({\n",
    "    'fileName':[data.iloc[i][0]+'.wav'],\n",
    "    'speakerID':[data.iloc[i][1]],\n",
    "    'sentenceID':[data.iloc[i][2]],\n",
    "    'recordUnit':[data.iloc[i][3]],\n",
    "    'recordQuality':[data.iloc[i][4]],\n",
    "    'recordDate':[data.iloc[i][5]],\n",
    "    'recordTime':[data.iloc[i][6]],\n",
    "    'Reading':[data.iloc[i][7]],\n",
    "    'ReadingLabelText':[data.iloc[i][8]],\n",
    "    'Question':[data.iloc[i][9]],\n",
    "    'AnswerLabelText':[data.iloc[i][10]],\n",
    "    'SentenceSpeechLV':[data.iloc[i][11]],\n",
    "    'SpeakerID':[data.iloc[i][12]],\n",
    "        \n",
    "    'gender':[data.iloc[i][13]],\n",
    "    'birthYear':[data.iloc[i][14]],\n",
    "    'eduBackground':[data.iloc[i][15]],\n",
    "    'country':[data.iloc[i][16]],\n",
    "    'residencePeriod':[data.iloc[i][17]],\n",
    "    'residenceCity':[data.iloc[i][18]],\n",
    "    'languageClass':[data.iloc[i][19]],\n",
    "    'motherTongue':[data.iloc[i][20]],\n",
    "    'selfAssessment':[data.iloc[i][21]],\n",
    "    'topikGrade':[data.iloc[i][22]],\n",
    "    'LearningPeriod':[data.iloc[i][23]],\n",
    "    'learningSource':[data.iloc[i][24]],\n",
    "    })\n",
    "    \n",
    "    #df.to_csv(data.iloc[i][0]+'.csv', 'w', encoding='utf-8')\n",
    "    df.to_csv(data.iloc[i][0]+'.csv', encoding='euc-kr', index=None)\n",
    "    #f = open(data.iloc[i][0]+'.csv', 'w', encoding='utf-8')\n",
    "    \n",
    "    \n",
    "    #f.close()\n",
    "    #print(data.iloc[i][0])"
   ]
  },
  {
   "cell_type": "code",
   "execution_count": 42,
   "id": "a3f88682",
   "metadata": {},
   "outputs": [
    {
     "data": {
      "text/plain": [
       "fileName                       EN9XQA001_EN9999_20210903\n",
       "speakerID                                         EN9999\n",
       "sentenceID                                     EN9XQA001\n",
       "recordUnit                                           ios\n",
       "recordQuality                           16bit 16kHz MONO\n",
       "recordDate                           2021-09-03 13:57:04\n",
       "recordTime                                         10.24\n",
       "Reading                                              NaN\n",
       "ReadingLabelText                                     NaN\n",
       "Question                                     자유롭게 말해 주세요\n",
       "AnswerLabelText     승객 여러분 요즘 문에 끼이는 사고가 자주 일어나+ 나고 있습니다\n",
       "SentenceSpeechLV                                       중\n",
       "speakerID.1                                       EN9999\n",
       "gender                                                 F\n",
       "birthYear                                           2001\n",
       "eduBackground                                         고졸\n",
       "country                                               US\n",
       "residencePeriod                                    1년 미만\n",
       "residenceCity                                      US-WA\n",
       "languageClass                                         영어\n",
       "motherTongue                                          영어\n",
       "selfAssessment                                         중\n",
       "topikGrade                                         해당 없음\n",
       "LearningPeriod                                        24\n",
       "learningSource                             학교 수업 (대학 포함)\n",
       "Name: 0, dtype: object"
      ]
     },
     "execution_count": 42,
     "metadata": {},
     "output_type": "execute_result"
    }
   ],
   "source": [
    "data.iloc[0]"
   ]
  },
  {
   "cell_type": "code",
   "execution_count": 54,
   "id": "1635dd9c",
   "metadata": {},
   "outputs": [],
   "source": [
    "df=pd.DataFrame({\n",
    "    'fileName':[data.iloc[0][0]],\n",
    "    'speakerID':[data.iloc[0][1]],\n",
    "    'sentenceID':[data.iloc[0][2]],\n",
    "    'recordUnit':[data.iloc[0][3]],\n",
    "    'recordQuality':[data.iloc[0][4]],\n",
    "    'recordDate':[data.iloc[0][5]],\n",
    "    'recordTime':[data.iloc[0][6]],\n",
    "    'Reading':[data.iloc[0][7]],\n",
    "    'ReadingLabelText':[data.iloc[0][8]],\n",
    "    'Question':[data.iloc[0][9]],\n",
    "    'AnswerLabelText':[data.iloc[0][10]],\n",
    "    'SentenceSpeechLV':[data.iloc[0][11]],\n",
    "    'speakerID':[data.iloc[0][12]],\n",
    "    'gender':[data.iloc[0][13]],\n",
    "    'birthYear':[data.iloc[0][14]],\n",
    "    'eduBackground':[data.iloc[0][15]],\n",
    "    'country':[data.iloc[0][16]],\n",
    "    'residencePeriod':[data.iloc[0][17]],\n",
    "    'residenceCity':[data.iloc[0][18]],\n",
    "    'languageClass':[data.iloc[0][19]],\n",
    "    'motherTongue':[data.iloc[0][20]],\n",
    "    'selfAssessment':[data.iloc[0][21]],\n",
    "    'topikGrade':[data.iloc[0][22]],\n",
    "    'LearningPeriod':[data.iloc[0][23]],\n",
    "    'learningSource':[data.iloc[0][24]],\n",
    "})"
   ]
  }
 ],
 "metadata": {
  "kernelspec": {
   "display_name": "Python 3",
   "language": "python",
   "name": "python3"
  },
  "language_info": {
   "codemirror_mode": {
    "name": "ipython",
    "version": 3
   },
   "file_extension": ".py",
   "mimetype": "text/x-python",
   "name": "python",
   "nbconvert_exporter": "python",
   "pygments_lexer": "ipython3",
   "version": "3.8.8"
  }
 },
 "nbformat": 4,
 "nbformat_minor": 5
}
